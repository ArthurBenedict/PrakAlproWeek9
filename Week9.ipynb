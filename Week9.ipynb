{
 "cells": [
  {
   "cell_type": "code",
   "execution_count": 1,
   "metadata": {},
   "outputs": [
    {
     "name": "stdout",
     "output_type": "stream",
     "text": [
      "3 nilai terbaik adalah=  [100, 95, 90]\n"
     ]
    }
   ],
   "source": [
    "daftar_nilai = [85, 75, 90, 100, 80, 95, 70, 60, 65]\n",
    "sorted_nilai = sorted(daftar_nilai, reverse=True)\n",
    "nilai_terbaik = sorted_nilai[:3]\n",
    "\n",
    "print(\"3 nilai terbaik adalah= \", nilai_terbaik)"
   ]
  },
  {
   "cell_type": "code",
   "execution_count": 2,
   "metadata": {},
   "outputs": [
    {
     "name": "stdout",
     "output_type": "stream",
     "text": [
      "user sudah selesai memasukan angka\n"
     ]
    }
   ],
   "source": [
    "angka = []\n",
    "while True:\n",
    "    input_angka = input ('masukkan angka (masukkan kata done ketika selesai memasukan angka)= ')\n",
    "    if input_angka.lower() == 'done':\n",
    "        print('user sudah selesai memasukan angka')\n",
    "        break\n",
    "    try:\n",
    "        inputan = float(input_angka)\n",
    "        angka.append(inputan)\n",
    "    except ValueError:\n",
    "        print(\"INPUTAN TIDAK VALID!! masukkan angka atau 'done'\")\n",
    "    \n",
    "    if angka:\n",
    "        nilai_max = max(angka)\n",
    "        nilai_min = min(angka)\n",
    "        print(\"angka yang dimasukkan adalah = \", angka)\n",
    "        print(\"nilai max dari inputan adalah = \", nilai_max)\n",
    "        print(\"nilai min dari inputan adalah = \", nilai_min)\n",
    "    else:\n",
    "        print(\"tidak ada angka yang di inputkan\")"
   ]
  },
  {
   "cell_type": "code",
   "execution_count": 3,
   "metadata": {},
   "outputs": [
    {
     "name": "stdout",
     "output_type": "stream",
     "text": [
      "file tidak ditemukan\n",
      "KATA UNIK PADA BERITA\n"
     ]
    }
   ],
   "source": [
    "def kt_unik(file):\n",
    "    kata_unik = []\n",
    "    try:\n",
    "        with open(file, 'r') as buka_file:\n",
    "            isi_file = buka_file.read()\n",
    "            print (\"ISI BERITA\")\n",
    "            print(isi_file)\n",
    "        with open(file, 'r') as buka_file:\n",
    "            for line in buka_file:\n",
    "                kata = line.strip().split()\n",
    "                kata_unik.append(kata)\n",
    "    except FileNotFoundError:\n",
    "        print('file tidak ditemukan')\n",
    "    return kata_unik\n",
    "def main():\n",
    "    file = 'berita.txt'\n",
    "\n",
    "    kata_unik = kt_unik(file)\n",
    "    print(\"KATA UNIK PADA BERITA\")\n",
    "    for kata in kata_unik:\n",
    "        print(kata)\n",
    "\n",
    "if __name__ == '__main__':\n",
    "    main()"
   ]
  }
 ],
 "metadata": {
  "kernelspec": {
   "display_name": "Python 3",
   "language": "python",
   "name": "python3"
  },
  "language_info": {
   "codemirror_mode": {
    "name": "ipython",
    "version": 3
   },
   "file_extension": ".py",
   "mimetype": "text/x-python",
   "name": "python",
   "nbconvert_exporter": "python",
   "pygments_lexer": "ipython3",
   "version": "3.12.0"
  }
 },
 "nbformat": 4,
 "nbformat_minor": 2
}
